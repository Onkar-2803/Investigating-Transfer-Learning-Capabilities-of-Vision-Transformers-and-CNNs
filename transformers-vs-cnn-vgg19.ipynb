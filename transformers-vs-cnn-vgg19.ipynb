{
 "cells": [
  {
   "cell_type": "code",
   "execution_count": 1,
   "id": "2b012913",
   "metadata": {
    "_cell_guid": "b1076dfc-b9ad-4769-8c92-a6c4dae69d19",
    "_uuid": "8f2839f25d086af736a60e9eeb907d3b93b6e0e5",
    "execution": {
     "iopub.execute_input": "2021-07-29T18:10:10.977993Z",
     "iopub.status.busy": "2021-07-29T18:10:10.977374Z",
     "iopub.status.idle": "2021-07-29T18:10:15.814626Z",
     "shell.execute_reply": "2021-07-29T18:10:15.813615Z"
    },
    "papermill": {
     "duration": 4.857995,
     "end_time": "2021-07-29T18:10:15.814798",
     "exception": false,
     "start_time": "2021-07-29T18:10:10.956803",
     "status": "completed"
    },
    "tags": []
   },
   "outputs": [],
   "source": [
    "import tensorflow as tf\n",
    "import tensorflow.keras as K\n",
    "import numpy as np\n",
    "import matplotlib.pyplot as plt\n",
    "%matplotlib inline"
   ]
  },
  {
   "cell_type": "code",
   "execution_count": 2,
   "id": "927b5449",
   "metadata": {
    "execution": {
     "iopub.execute_input": "2021-07-29T18:10:15.836894Z",
     "iopub.status.busy": "2021-07-29T18:10:15.835182Z",
     "iopub.status.idle": "2021-07-29T18:10:15.837646Z",
     "shell.execute_reply": "2021-07-29T18:10:15.838041Z"
    },
    "papermill": {
     "duration": 0.015408,
     "end_time": "2021-07-29T18:10:15.838181",
     "exception": false,
     "start_time": "2021-07-29T18:10:15.822773",
     "status": "completed"
    },
    "tags": []
   },
   "outputs": [],
   "source": [
    "def preprocess_data(X, Y):\n",
    "    \"\"\"\n",
    "    function that pre-processes the CIFAR10 dataset as per\n",
    "    densenet model requirements for input images\n",
    "    labels are one-hot encoded\n",
    "    \"\"\"\n",
    "    X = K.applications.densenet.preprocess_input(X)\n",
    "    Y = K.utils.to_categorical(Y)\n",
    "    return X, Y"
   ]
  },
  {
   "cell_type": "code",
   "execution_count": 3,
   "id": "f5fd832e",
   "metadata": {
    "execution": {
     "iopub.execute_input": "2021-07-29T18:10:15.858512Z",
     "iopub.status.busy": "2021-07-29T18:10:15.857903Z",
     "iopub.status.idle": "2021-07-29T18:10:24.733991Z",
     "shell.execute_reply": "2021-07-29T18:10:24.733529Z"
    },
    "papermill": {
     "duration": 8.888789,
     "end_time": "2021-07-29T18:10:24.734136",
     "exception": false,
     "start_time": "2021-07-29T18:10:15.845347",
     "status": "completed"
    },
    "tags": []
   },
   "outputs": [
    {
     "name": "stdout",
     "output_type": "stream",
     "text": [
      "Downloading data from https://www.cs.toronto.edu/~kriz/cifar-10-python.tar.gz\n",
      "170500096/170498071 [==============================] - 6s 0us/step\n"
     ]
    }
   ],
   "source": [
    "# load the Cifar10 dataset, 50,000 training images and 10,000 test images (here used as validation data)\n",
    "(x_train, y_train), (x_test, y_test) = K.datasets.cifar10.load_data()\n",
    "# preprocess the data using the application's preprocess_input method and convert the labels to one-hot encodings\n",
    "x_train, y_train = preprocess_data(x_train, y_train)\n",
    "x_test, y_test = preprocess_data(x_test, y_test)"
   ]
  },
  {
   "cell_type": "code",
   "execution_count": 4,
   "id": "8f4de30e",
   "metadata": {
    "execution": {
     "iopub.execute_input": "2021-07-29T18:10:24.808919Z",
     "iopub.status.busy": "2021-07-29T18:10:24.808278Z",
     "iopub.status.idle": "2021-07-29T18:10:24.838067Z",
     "shell.execute_reply": "2021-07-29T18:10:24.837206Z"
    },
    "papermill": {
     "duration": 0.06907,
     "end_time": "2021-07-29T18:10:24.838199",
     "exception": false,
     "start_time": "2021-07-29T18:10:24.769129",
     "status": "completed"
    },
    "tags": []
   },
   "outputs": [],
   "source": [
    "input_tensor = K.Input(shape=(32, 32, 3))\n",
    "# resize images to the image size upon which the network was pre-trained\n",
    "resized_images = K.layers.Lambda(lambda image: tf.image.resize(image, (224, 224)))(input_tensor)"
   ]
  },
  {
   "cell_type": "code",
   "execution_count": 5,
   "id": "c0918337",
   "metadata": {
    "execution": {
     "iopub.execute_input": "2021-07-29T18:10:24.912496Z",
     "iopub.status.busy": "2021-07-29T18:10:24.911633Z",
     "iopub.status.idle": "2021-07-29T18:10:24.918311Z",
     "shell.execute_reply": "2021-07-29T18:10:24.917721Z"
    },
    "papermill": {
     "duration": 0.044864,
     "end_time": "2021-07-29T18:10:24.918437",
     "exception": false,
     "start_time": "2021-07-29T18:10:24.873573",
     "status": "completed"
    },
    "tags": []
   },
   "outputs": [],
   "source": [
    "# reduce learning rate when val_accuracy has stopped improving\n",
    "lr_reduce = K.callbacks.ReduceLROnPlateau(monitor='val_accuracy',\n",
    "                                          factor=0.6,\n",
    "                                          patience=2,\n",
    "                                          verbose=1,\n",
    "                                          mode='max',\n",
    "                                          min_lr=1e-7)\n",
    "# stop training when val_accuracy has stopped improving\n",
    "early_stop = K.callbacks.EarlyStopping(monitor='val_accuracy',\n",
    "                                       patience=3,\n",
    "                                       verbose=1,\n",
    "                                       mode='max')\n",
    "# callback to save the Keras model and (best) weights obtained on an epoch basis. here, the trained (compiled) model is saved in the current working directory as 'cifar10.h5'\n",
    "checkpoint = K.callbacks.ModelCheckpoint('cifar10.h5',\n",
    "                                         monitor='val_accuracy',\n",
    "                                         verbose=1,\n",
    "                                         save_weights_only=False,\n",
    "                                         save_best_only=True,\n",
    "                                         mode='max',\n",
    "                                         save_freq='epoch')"
   ]
  },
  {
   "cell_type": "code",
   "execution_count": 6,
   "id": "6246f9a4",
   "metadata": {
    "execution": {
     "iopub.execute_input": "2021-07-29T18:10:25.008527Z",
     "iopub.status.busy": "2021-07-29T18:10:25.007636Z",
     "iopub.status.idle": "2021-07-29T18:10:25.022650Z",
     "shell.execute_reply": "2021-07-29T18:10:25.023355Z"
    },
    "papermill": {
     "duration": 0.069955,
     "end_time": "2021-07-29T18:10:25.023595",
     "exception": false,
     "start_time": "2021-07-29T18:10:24.953640",
     "status": "completed"
    },
    "tags": []
   },
   "outputs": [],
   "source": [
    "train_datagen = K.preprocessing.image.ImageDataGenerator(\n",
    "                                          # rotation_range=40,\n",
    "                                          # width_shift_range=0.2,\n",
    "                                          # height_shift_range=0.2,\n",
    "                                          # shear_range=0.2,\n",
    "                                          # zoom_range=0.2,\n",
    "                                          horizontal_flip=True,\n",
    "                                          # fill_mode='nearest'\n",
    "                                          )\n",
    "train_generator = train_datagen.flow(x_train,\n",
    "                                     y_train,\n",
    "                                     batch_size=512)\n",
    "val_datagen = K.preprocessing.image.ImageDataGenerator(\n",
    "                                        # rotation_range=40,\n",
    "                                        # width_shift_range=0.2,\n",
    "                                        # height_shift_range=0.2,\n",
    "                                        # shear_range=0.2,\n",
    "                                        # zoom_range=0.2,\n",
    "                                        horizontal_flip=True,\n",
    "                                        # fill_mode='nearest'\n",
    "                                        )\n",
    "val_generator = val_datagen.flow(x_test,\n",
    "                                 y_test,\n",
    "                                 batch_size=512)\n",
    "train_steps_per_epoch = x_train.shape[0] // 512\n",
    "val_steps_per_epoch = x_test.shape[0] // 512"
   ]
  },
  {
   "cell_type": "code",
   "execution_count": 7,
   "id": "3ce80549",
   "metadata": {
    "execution": {
     "iopub.execute_input": "2021-07-29T18:10:25.170636Z",
     "iopub.status.busy": "2021-07-29T18:10:25.169743Z",
     "iopub.status.idle": "2021-07-29T18:10:29.870889Z",
     "shell.execute_reply": "2021-07-29T18:10:29.871300Z"
    },
    "papermill": {
     "duration": 4.777315,
     "end_time": "2021-07-29T18:10:29.871470",
     "exception": false,
     "start_time": "2021-07-29T18:10:25.094155",
     "status": "completed"
    },
    "tags": []
   },
   "outputs": [
    {
     "name": "stdout",
     "output_type": "stream",
     "text": [
      "Downloading data from https://storage.googleapis.com/tensorflow/keras-applications/vgg19/vgg19_weights_tf_dim_ordering_tf_kernels_notop.h5\n",
      "80142336/80134624 [==============================] - 2s 0us/step\n",
      "Model: \"vgg19\"\n",
      "_________________________________________________________________\n",
      "Layer (type)                 Output Shape              Param #   \n",
      "=================================================================\n",
      "input_1 (InputLayer)         [(None, 32, 32, 3)]       0         \n",
      "_________________________________________________________________\n",
      "lambda (Lambda)              (None, 224, 224, 3)       0         \n",
      "_________________________________________________________________\n",
      "block1_conv1 (Conv2D)        (None, 224, 224, 64)      1792      \n",
      "_________________________________________________________________\n",
      "block1_conv2 (Conv2D)        (None, 224, 224, 64)      36928     \n",
      "_________________________________________________________________\n",
      "block1_pool (MaxPooling2D)   (None, 112, 112, 64)      0         \n",
      "_________________________________________________________________\n",
      "block2_conv1 (Conv2D)        (None, 112, 112, 128)     73856     \n",
      "_________________________________________________________________\n",
      "block2_conv2 (Conv2D)        (None, 112, 112, 128)     147584    \n",
      "_________________________________________________________________\n",
      "block2_pool (MaxPooling2D)   (None, 56, 56, 128)       0         \n",
      "_________________________________________________________________\n",
      "block3_conv1 (Conv2D)        (None, 56, 56, 256)       295168    \n",
      "_________________________________________________________________\n",
      "block3_conv2 (Conv2D)        (None, 56, 56, 256)       590080    \n",
      "_________________________________________________________________\n",
      "block3_conv3 (Conv2D)        (None, 56, 56, 256)       590080    \n",
      "_________________________________________________________________\n",
      "block3_conv4 (Conv2D)        (None, 56, 56, 256)       590080    \n",
      "_________________________________________________________________\n",
      "block3_pool (MaxPooling2D)   (None, 28, 28, 256)       0         \n",
      "_________________________________________________________________\n",
      "block4_conv1 (Conv2D)        (None, 28, 28, 512)       1180160   \n",
      "_________________________________________________________________\n",
      "block4_conv2 (Conv2D)        (None, 28, 28, 512)       2359808   \n",
      "_________________________________________________________________\n",
      "block4_conv3 (Conv2D)        (None, 28, 28, 512)       2359808   \n",
      "_________________________________________________________________\n",
      "block4_conv4 (Conv2D)        (None, 28, 28, 512)       2359808   \n",
      "_________________________________________________________________\n",
      "block4_pool (MaxPooling2D)   (None, 14, 14, 512)       0         \n",
      "_________________________________________________________________\n",
      "block5_conv1 (Conv2D)        (None, 14, 14, 512)       2359808   \n",
      "_________________________________________________________________\n",
      "block5_conv2 (Conv2D)        (None, 14, 14, 512)       2359808   \n",
      "_________________________________________________________________\n",
      "block5_conv3 (Conv2D)        (None, 14, 14, 512)       2359808   \n",
      "_________________________________________________________________\n",
      "block5_conv4 (Conv2D)        (None, 14, 14, 512)       2359808   \n",
      "_________________________________________________________________\n",
      "block5_pool (MaxPooling2D)   (None, 7, 7, 512)         0         \n",
      "_________________________________________________________________\n",
      "global_max_pooling2d (Global (None, 512)               0         \n",
      "=================================================================\n",
      "Total params: 20,024,384\n",
      "Trainable params: 20,024,384\n",
      "Non-trainable params: 0\n",
      "_________________________________________________________________\n"
     ]
    }
   ],
   "source": [
    "# weights are initialized as per the he et al. method\n",
    "initializer = K.initializers.he_normal()\n",
    "\n",
    "model = K.applications.VGG19(include_top=False,\n",
    "                                   weights='imagenet',\n",
    "                                   input_tensor=resized_images,\n",
    "                                   input_shape=(224, 224, 3),\n",
    "                                   pooling='max',\n",
    "                                   classes=1000)\n",
    "# make the weights and biases of the base model non-trainable by \"freezing\" each layer of the DenseNet201 network\n",
    "\n",
    "\n",
    "model.summary()    "
   ]
  },
  {
   "cell_type": "code",
   "execution_count": 8,
   "id": "f5fc3311",
   "metadata": {
    "execution": {
     "iopub.execute_input": "2021-07-29T18:10:29.960476Z",
     "iopub.status.busy": "2021-07-29T18:10:29.959895Z",
     "iopub.status.idle": "2021-07-29T18:10:30.015062Z",
     "shell.execute_reply": "2021-07-29T18:10:30.014206Z"
    },
    "papermill": {
     "duration": 0.104443,
     "end_time": "2021-07-29T18:10:30.015201",
     "exception": false,
     "start_time": "2021-07-29T18:10:29.910758",
     "status": "completed"
    },
    "tags": []
   },
   "outputs": [
    {
     "name": "stdout",
     "output_type": "stream",
     "text": [
      "Model: \"model\"\n",
      "_________________________________________________________________\n",
      "Layer (type)                 Output Shape              Param #   \n",
      "=================================================================\n",
      "input_1 (InputLayer)         [(None, 32, 32, 3)]       0         \n",
      "_________________________________________________________________\n",
      "lambda (Lambda)              (None, 224, 224, 3)       0         \n",
      "_________________________________________________________________\n",
      "block1_conv1 (Conv2D)        (None, 224, 224, 64)      1792      \n",
      "_________________________________________________________________\n",
      "block1_conv2 (Conv2D)        (None, 224, 224, 64)      36928     \n",
      "_________________________________________________________________\n",
      "block1_pool (MaxPooling2D)   (None, 112, 112, 64)      0         \n",
      "_________________________________________________________________\n",
      "block2_conv1 (Conv2D)        (None, 112, 112, 128)     73856     \n",
      "_________________________________________________________________\n",
      "block2_conv2 (Conv2D)        (None, 112, 112, 128)     147584    \n",
      "_________________________________________________________________\n",
      "block2_pool (MaxPooling2D)   (None, 56, 56, 128)       0         \n",
      "_________________________________________________________________\n",
      "block3_conv1 (Conv2D)        (None, 56, 56, 256)       295168    \n",
      "_________________________________________________________________\n",
      "block3_conv2 (Conv2D)        (None, 56, 56, 256)       590080    \n",
      "_________________________________________________________________\n",
      "block3_conv3 (Conv2D)        (None, 56, 56, 256)       590080    \n",
      "_________________________________________________________________\n",
      "block3_conv4 (Conv2D)        (None, 56, 56, 256)       590080    \n",
      "_________________________________________________________________\n",
      "block3_pool (MaxPooling2D)   (None, 28, 28, 256)       0         \n",
      "_________________________________________________________________\n",
      "block4_conv1 (Conv2D)        (None, 28, 28, 512)       1180160   \n",
      "_________________________________________________________________\n",
      "block4_conv2 (Conv2D)        (None, 28, 28, 512)       2359808   \n",
      "_________________________________________________________________\n",
      "block4_conv3 (Conv2D)        (None, 28, 28, 512)       2359808   \n",
      "_________________________________________________________________\n",
      "block4_conv4 (Conv2D)        (None, 28, 28, 512)       2359808   \n",
      "_________________________________________________________________\n",
      "block4_pool (MaxPooling2D)   (None, 14, 14, 512)       0         \n",
      "_________________________________________________________________\n",
      "block5_conv1 (Conv2D)        (None, 14, 14, 512)       2359808   \n",
      "_________________________________________________________________\n",
      "block5_conv2 (Conv2D)        (None, 14, 14, 512)       2359808   \n",
      "_________________________________________________________________\n",
      "block5_conv3 (Conv2D)        (None, 14, 14, 512)       2359808   \n",
      "_________________________________________________________________\n",
      "block5_conv4 (Conv2D)        (None, 14, 14, 512)       2359808   \n",
      "_________________________________________________________________\n",
      "block5_pool (MaxPooling2D)   (None, 7, 7, 512)         0         \n",
      "_________________________________________________________________\n",
      "global_max_pooling2d (Global (None, 512)               0         \n",
      "_________________________________________________________________\n",
      "flatten (Flatten)            (None, 512)               0         \n",
      "_________________________________________________________________\n",
      "dense (Dense)                (None, 256)               131328    \n",
      "_________________________________________________________________\n",
      "dropout (Dropout)            (None, 256)               0         \n",
      "_________________________________________________________________\n",
      "dense_1 (Dense)              (None, 10)                2570      \n",
      "=================================================================\n",
      "Total params: 20,158,282\n",
      "Trainable params: 9,573,130\n",
      "Non-trainable params: 10,585,152\n",
      "_________________________________________________________________\n"
     ]
    }
   ],
   "source": [
    "for layer in model.layers:\n",
    "  if layer.name == 'block5_conv1':\n",
    "    break\n",
    "  layer.trainable = False\n",
    "\n",
    "output = model.layers[-1].output\n",
    "# reshape the output feature map of the base model before passing the data on to the Dense layers of the classifier head\n",
    "flatten = K.layers.Flatten()\n",
    "output = flatten(output)\n",
    "layer_256 = K.layers.Dense(units=256,\n",
    "                           activation='elu',\n",
    "                           kernel_initializer=initializer,\n",
    "                           kernel_regularizer=K.regularizers.l2())\n",
    "output = layer_256(output)\n",
    "dropout = K.layers.Dropout(0.5)\n",
    "output = dropout(output)\n",
    "softmax = K.layers.Dense(units=10,\n",
    "                         activation='softmax',\n",
    "                         kernel_initializer=initializer,\n",
    "                         kernel_regularizer=K.regularizers.l2())\n",
    "output = softmax(output)\n",
    "model = K.models.Model(inputs=input_tensor, outputs=output)\n",
    "\n",
    "model.summary()\n",
    "\n",
    "model.compile(\n",
    "         optimizer=K.optimizers.Adam(learning_rate=1e-4),\n",
    "         loss='categorical_crossentropy',\n",
    "         metrics=['accuracy'])"
   ]
  },
  {
   "cell_type": "code",
   "execution_count": 9,
   "id": "23988a3c",
   "metadata": {
    "execution": {
     "iopub.execute_input": "2021-07-29T18:10:30.100820Z",
     "iopub.status.busy": "2021-07-29T18:10:30.100119Z",
     "iopub.status.idle": "2021-07-29T18:46:03.743104Z",
     "shell.execute_reply": "2021-07-29T18:46:03.742639Z"
    },
    "papermill": {
     "duration": 2133.687611,
     "end_time": "2021-07-29T18:46:03.743229",
     "exception": false,
     "start_time": "2021-07-29T18:10:30.055618",
     "status": "completed"
    },
    "tags": []
   },
   "outputs": [
    {
     "name": "stdout",
     "output_type": "stream",
     "text": [
      "Epoch 1/20\n",
      "97/97 [==============================] - 178s 2s/step - loss: 6.8212 - accuracy: 0.4498 - val_loss: 5.1351 - val_accuracy: 0.8310\n",
      "\n",
      "Epoch 00001: val_accuracy improved from -inf to 0.83100, saving model to cifar10.h5\n",
      "Epoch 2/20\n",
      "97/97 [==============================] - 130s 1s/step - loss: 4.9931 - accuracy: 0.8234 - val_loss: 4.3722 - val_accuracy: 0.8729\n",
      "\n",
      "Epoch 00002: val_accuracy improved from 0.83100 to 0.87294, saving model to cifar10.h5\n",
      "Epoch 3/20\n",
      "97/97 [==============================] - 130s 1s/step - loss: 4.2026 - accuracy: 0.8798 - val_loss: 3.7630 - val_accuracy: 0.8888\n",
      "\n",
      "Epoch 00003: val_accuracy improved from 0.87294 to 0.88877, saving model to cifar10.h5\n",
      "Epoch 4/20\n",
      "97/97 [==============================] - 130s 1s/step - loss: 3.5752 - accuracy: 0.9086 - val_loss: 3.2403 - val_accuracy: 0.9036\n",
      "\n",
      "Epoch 00004: val_accuracy improved from 0.88877 to 0.90358, saving model to cifar10.h5\n",
      "Epoch 5/20\n",
      "97/97 [==============================] - 130s 1s/step - loss: 3.0421 - accuracy: 0.9327 - val_loss: 2.8086 - val_accuracy: 0.9061\n",
      "\n",
      "Epoch 00005: val_accuracy improved from 0.90358 to 0.90615, saving model to cifar10.h5\n",
      "Epoch 6/20\n",
      "97/97 [==============================] - 130s 1s/step - loss: 2.6114 - accuracy: 0.9448 - val_loss: 2.4540 - val_accuracy: 0.9096\n",
      "\n",
      "Epoch 00006: val_accuracy improved from 0.90615 to 0.90964, saving model to cifar10.h5\n",
      "Epoch 7/20\n",
      "97/97 [==============================] - 130s 1s/step - loss: 2.2381 - accuracy: 0.9548 - val_loss: 2.1444 - val_accuracy: 0.9131\n",
      "\n",
      "Epoch 00007: val_accuracy improved from 0.90964 to 0.91314, saving model to cifar10.h5\n",
      "Epoch 8/20\n",
      "97/97 [==============================] - 130s 1s/step - loss: 1.9273 - accuracy: 0.9634 - val_loss: 1.8712 - val_accuracy: 0.9195\n",
      "\n",
      "Epoch 00008: val_accuracy improved from 0.91314 to 0.91951, saving model to cifar10.h5\n",
      "Epoch 9/20\n",
      "97/97 [==============================] - 130s 1s/step - loss: 1.6539 - accuracy: 0.9729 - val_loss: 1.6771 - val_accuracy: 0.9160\n",
      "\n",
      "Epoch 00009: val_accuracy did not improve from 0.91951\n",
      "Epoch 10/20\n",
      "97/97 [==============================] - 130s 1s/step - loss: 1.4278 - accuracy: 0.9782 - val_loss: 1.4597 - val_accuracy: 0.9200\n",
      "\n",
      "Epoch 00010: val_accuracy improved from 0.91951 to 0.92002, saving model to cifar10.h5\n",
      "Epoch 11/20\n",
      "97/97 [==============================] - 130s 1s/step - loss: 1.2333 - accuracy: 0.9821 - val_loss: 1.3108 - val_accuracy: 0.9198\n",
      "\n",
      "Epoch 00011: val_accuracy did not improve from 0.92002\n",
      "Epoch 12/20\n",
      "97/97 [==============================] - 130s 1s/step - loss: 1.0642 - accuracy: 0.9868 - val_loss: 1.1815 - val_accuracy: 0.9187\n",
      "\n",
      "Epoch 00012: ReduceLROnPlateau reducing learning rate to 5.999999848427251e-05.\n",
      "\n",
      "Epoch 00012: val_accuracy did not improve from 0.92002\n",
      "Epoch 13/20\n",
      "97/97 [==============================] - 130s 1s/step - loss: 0.9269 - accuracy: 0.9918 - val_loss: 1.0902 - val_accuracy: 0.9253\n",
      "\n",
      "Epoch 00013: val_accuracy improved from 0.92002 to 0.92527, saving model to cifar10.h5\n",
      "Epoch 14/20\n",
      "97/97 [==============================] - 130s 1s/step - loss: 0.8434 - accuracy: 0.9948 - val_loss: 1.0175 - val_accuracy: 0.9240\n",
      "\n",
      "Epoch 00014: val_accuracy did not improve from 0.92527\n",
      "Epoch 15/20\n",
      "97/97 [==============================] - 130s 1s/step - loss: 0.7710 - accuracy: 0.9959 - val_loss: 0.9702 - val_accuracy: 0.9236\n",
      "\n",
      "Epoch 00015: ReduceLROnPlateau reducing learning rate to 3.599999909056351e-05.\n",
      "\n",
      "Epoch 00015: val_accuracy did not improve from 0.92527\n",
      "Epoch 16/20\n",
      "97/97 [==============================] - 130s 1s/step - loss: 0.7089 - accuracy: 0.9964 - val_loss: 0.9215 - val_accuracy: 0.9252\n",
      "\n",
      "Epoch 00016: val_accuracy did not improve from 0.92527\n",
      "Epoch 00016: early stopping\n",
      "CPU times: user 8min 23s, sys: 1min 21s, total: 9min 44s\n",
      "Wall time: 35min 33s\n"
     ]
    }
   ],
   "source": [
    "%%time\n",
    "history = model.fit(train_generator,\n",
    "                    steps_per_epoch=train_steps_per_epoch,\n",
    "                    validation_data=val_generator,\n",
    "                    validation_steps=val_steps_per_epoch,\n",
    "                    epochs=20,\n",
    "                    shuffle=True,\n",
    "                    callbacks=[lr_reduce, early_stop, checkpoint],\n",
    "                    verbose=1)"
   ]
  },
  {
   "cell_type": "code",
   "execution_count": 10,
   "id": "13eb2901",
   "metadata": {
    "execution": {
     "iopub.execute_input": "2021-07-29T18:46:04.639569Z",
     "iopub.status.busy": "2021-07-29T18:46:04.638678Z",
     "iopub.status.idle": "2021-07-29T18:46:04.926365Z",
     "shell.execute_reply": "2021-07-29T18:46:04.926780Z"
    },
    "papermill": {
     "duration": 0.739076,
     "end_time": "2021-07-29T18:46:04.926930",
     "exception": false,
     "start_time": "2021-07-29T18:46:04.187854",
     "status": "completed"
    },
    "tags": []
   },
   "outputs": [
    {
     "data": {
      "image/png": "[encoded data removed]",
      "text/plain": [
       "<Figure size 1080x576 with 2 Axes>"
      ]
     },
     "metadata": {
      "needs_background": "light"
     },
     "output_type": "display_data"
    }
   ],
   "source": [
    "plt.figure(1, figsize = (15,8))\n",
    "plt.subplot(221)\n",
    "plt.plot(history.history['accuracy'])\n",
    "plt.plot(history.history['val_accuracy'])\n",
    "plt.title('model accuracy')\n",
    "plt.ylabel('accuracy')\n",
    "plt.xlabel('epoch')\n",
    "plt.legend(['train', 'valid'])\n",
    "plt.subplot(222)\n",
    "plt.plot(history.history['loss'])\n",
    "plt.plot(history.history['val_loss'])\n",
    "plt.title('model loss')\n",
    "plt.ylabel('loss')\n",
    "plt.xlabel('epoch')\n",
    "plt.legend(['train', 'valid'])\n",
    "plt.show()"
   ]
  }
 ],
 "metadata": {
  "kernelspec": {
   "display_name": "Python 3",
   "language": "python",
   "name": "python3"
  },
  "language_info": {
   "codemirror_mode": {
    "name": "ipython",
    "version": 3
   },
   "file_extension": ".py",
   "mimetype": "text/x-python",
   "name": "python",
   "nbconvert_exporter": "python",
   "pygments_lexer": "ipython3",
   "version": "3.7.10"
  },
  "papermill": {
   "default_parameters": {},
   "duration": 2163.576731,
   "end_time": "2021-07-29T18:46:07.567665",
   "environment_variables": {},
   "exception": null,
   "input_path": "__notebook__.ipynb",
   "output_path": "__notebook__.ipynb",
   "parameters": {},
   "start_time": "2021-07-29T18:10:03.990934",
   "version": "2.3.3"
  }
 },
 "nbformat": 4,
 "nbformat_minor": 5
}
